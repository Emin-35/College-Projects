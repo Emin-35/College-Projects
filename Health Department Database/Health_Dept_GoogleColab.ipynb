{
  "nbformat": 4,
  "nbformat_minor": 0,
  "metadata": {
    "colab": {
      "provenance": [],
      "collapsed_sections": [
        "ldkgVsZhOH0X",
        "C-2AvQ2BMOU3",
        "5q0NZBQlMZW_",
        "in5rRCEeMoQE",
        "K-MTE2kxNHdC",
        "HLSn2ZxkM91a",
        "9pwVU9ryNhes",
        "PLGVT7HwtgC6",
        "3hVBC9tEsKeE"
      ],
      "toc_visible": true
    },
    "kernelspec": {
      "name": "python3",
      "display_name": "Python 3"
    },
    "language_info": {
      "name": "python"
    }
  },
  "cells": [
    {
      "cell_type": "markdown",
      "source": [
        "#Importing the necessary libraries"
      ],
      "metadata": {
        "id": "ldkgVsZhOH0X"
      }
    },
    {
      "cell_type": "code",
      "execution_count": null,
      "metadata": {
        "colab": {
          "base_uri": "https://localhost:8080/"
        },
        "id": "oYKHRR4cLSMC",
        "outputId": "d8e33a8b-7dfe-44fb-8d84-e8567cbd664f"
      },
      "outputs": [
        {
          "output_type": "stream",
          "name": "stdout",
          "text": [
            "Looking in indexes: https://pypi.org/simple, https://us-python.pkg.dev/colab-wheels/public/simple/\n",
            "Collecting pymysql\n",
            "  Downloading PyMySQL-1.0.2-py3-none-any.whl (43 kB)\n",
            "\u001b[2K     \u001b[90m━━━━━━━━━━━━━━━━━━━━━━━━━━━━━━━━━━━━━━━━\u001b[0m \u001b[32m43.8/43.8 KB\u001b[0m \u001b[31m4.5 MB/s\u001b[0m eta \u001b[36m0:00:00\u001b[0m\n",
            "\u001b[?25hInstalling collected packages: pymysql\n",
            "Successfully installed pymysql-1.0.2\n",
            "Looking in indexes: https://pypi.org/simple, https://us-python.pkg.dev/colab-wheels/public/simple/\n",
            "Requirement already satisfied: prettytable in /usr/local/lib/python3.8/dist-packages (3.5.0)\n",
            "Requirement already satisfied: wcwidth in /usr/local/lib/python3.8/dist-packages (from prettytable) (0.2.5)\n"
          ]
        }
      ],
      "source": [
        "#For connecting MySQL with Python\n",
        "!pip install pymysql\n",
        "import pymysql\n",
        "\n",
        "#Imporing prettytable library to show the tables more clearly\n",
        "!pip install prettytable\n",
        "from prettytable import PrettyTable"
      ]
    },
    {
      "cell_type": "markdown",
      "source": [
        "# Connecting Pyton to MySQL database"
      ],
      "metadata": {
        "id": "C-2AvQ2BMOU3"
      }
    },
    {
      "cell_type": "code",
      "source": [
        "# Connect to the database\n",
        "connection = pymysql.connect(host=\"localhost\",\n",
        "            user=\"root\",\n",
        "            password=\"\",\n",
        "            cursorclass=pymysql.cursors.DictCursor)\n",
        "\n",
        "# Create a cursor object\n",
        "cursor = connection.cursor()"
      ],
      "metadata": {
        "id": "6GHKLvYCMGo_"
      },
      "execution_count": null,
      "outputs": []
    },
    {
      "cell_type": "markdown",
      "source": [
        "# Creating a new database called health_dept"
      ],
      "metadata": {
        "id": "5q0NZBQlMZW_"
      }
    },
    {
      "cell_type": "code",
      "source": [
        "# Create the database if not exists\n",
        "cursor.execute(\"CREATE DATABASE IF NOT EXISTS health_dept\")\n",
        "# Use that database\n",
        "cursor.execute(\"USE health_dept\")"
      ],
      "metadata": {
        "id": "pjPXtFrvMX8-"
      },
      "execution_count": null,
      "outputs": []
    },
    {
      "cell_type": "markdown",
      "source": [
        "# Creating the Tables"
      ],
      "metadata": {
        "id": "in5rRCEeMoQE"
      }
    },
    {
      "cell_type": "code",
      "source": [
        "# Create the Department table\n",
        "cursor.execute(\"CREATE TABLE Department(dept_ID INTEGER NOT NULL PRIMARY KEY, dept_name VARCHAR(255) NOT NULL)\")\n",
        "\n",
        "# Create the Doctor table\n",
        "cursor.execute(\"CREATE TABLE Doctor (doc_ID INTEGER NOT NULL PRIMARY KEY, doc_name VARCHAR(255) NOT NULL, doc_lastname VARCHAR(255) NOT NULL, dept_ID INTEGER NOT NULL, FOREIGN KEY (dept_ID) REFERENCES Department(dept_ID))\")\n",
        "\n",
        "# Create the Patient table\n",
        "cursor.execute(\"CREATE TABLE Patient (pat_ID INTEGER NOT NULL PRIMARY KEY, pat_name VARCHAR(255) NOT NULL, pat_lastname VARCHAR(255), pat_gender VARCHAR(255) NOT NULL)\")\n",
        "\n",
        "# Create the Appointment table\n",
        "cursor.execute(\"CREATE TABLE Appointment (app_ID INTEGER NOT NULL AUTO_INCREMENT PRIMARY KEY, app_date DATE NOT NULL, app_hour TIME NOT NULL, app_reason VARCHAR(255))\")\n",
        "\n",
        "# Create the Medicine table\n",
        "cursor.execute(\"CREATE TABLE Medicine (med_ID INTEGER NOT NULL PRIMARY KEY, med_code VARCHAR(255) NOT NULL, med_price INTEGER NOT NULL)\")"
      ],
      "metadata": {
        "id": "YqaNgbNmMeLr"
      },
      "execution_count": null,
      "outputs": []
    },
    {
      "cell_type": "markdown",
      "source": [
        "# Creating the relation tables"
      ],
      "metadata": {
        "id": "K-MTE2kxNHdC"
      }
    },
    {
      "cell_type": "code",
      "source": [
        "# Create the makes table\n",
        "# Patient makes an Appointment. makes is a relation table here\n",
        "cursor.execute(\"CREATE TABLE makes (app_ID INTEGER NOT NULL AUTO_INCREMENT, doc_ID INTEGER NOT NULL, pat_ID INTEGER NOT NULL, FOREIGN KEY (app_ID) REFERENCES Appointment(app_ID), FOREIGN KEY (doc_ID) REFERENCES Doctor(doc_ID), FOREIGN KEY (pat_ID) REFERENCES Patient(pat_ID))\")\n",
        "\n",
        "# Create the gives table\n",
        "# Doctor gives an Medicine to Patient. gives is a relation table here\n",
        "cursor.execute(\"CREATE TABLE gives (doc_ID INTEGER NOT NULL,  med_ID INTEGER NOT NULL, pat_ID INTEGER NOT NULL, FOREIGN KEY (doc_ID) REFERENCES Doctor(doc_ID), FOREIGN KEY (med_ID) REFERENCES Medicine(med_ID), FOREIGN KEY (pat_ID) REFERENCES Patient(pat_ID))\")\n",
        "\n",
        "# Create the takes table\n",
        "# Patient takes an Medicine. takes is a relation table here\n",
        "cursor.execute(\"CREATE TABLE takes (pat_ID INTEGER NOT NULL, med_ID INTEGER NOT NULL, FOREIGN KEY (pat_ID) REFERENCES Patient(pat_ID), FOREIGN KEY (med_ID) REFERENCES Medicine(med_ID))\")\n",
        "\n",
        "# Create the works table\n",
        "# Doctor works at a Department. works is a relation table here\n",
        "cursor.execute(\"CREATE TABLE works (doc_ID INTEGER NOT NULL, dept_ID INTEGER NOT NULL, FOREIGN KEY (doc_ID) REFERENCES Doctor(doc_ID), FOREIGN KEY (dept_ID) REFERENCES Department(dept_ID))\")"
      ],
      "metadata": {
        "id": "a6vMEPigNGv8"
      },
      "execution_count": null,
      "outputs": []
    },
    {
      "cell_type": "markdown",
      "source": [
        "# Question 2\n",
        "# Functionality for inserting tables to database"
      ],
      "metadata": {
        "id": "HLSn2ZxkM91a"
      }
    },
    {
      "cell_type": "code",
      "source": [
        "# For each table we take given datas(according to the table's attributes), and with using INSERT INTO command\n",
        "# filling the tables, then commiting the changes so tables would show in MySQL.\n",
        "# !Every function is same for 'filling' the tables so I won't be explaning over and over again!\n",
        "\n",
        "def insert_department(dept_ID, dept_name):\n",
        "    sql = \"INSERT INTO Department (dept_ID, dept_name) VALUES (%s, %s)\"\n",
        "    cursor.execute(sql, (dept_ID, dept_name))\n",
        "    connection.commit()\n",
        "\n",
        "def insert_doctor(doc_ID, doc_name, doc_lastname, dept_ID):\n",
        "    sql = \"INSERT INTO Doctor (doc_ID, doc_name, doc_lastname, dept_ID) VALUES (%s, %s, %s, %s)\"\n",
        "\n",
        "    cursor.execute(sql, (doc_ID, doc_name, doc_lastname, dept_ID))\n",
        "    connection.commit()\n",
        "\n",
        "def insert_patient(pat_ID, pat_name, pat_lastname, pat_gender):\n",
        "    sql = \"INSERT INTO Patient (pat_ID, pat_name, pat_lastname, pat_gender) VALUES (%s, %s, %s, %s)\"\n",
        "\n",
        "    cursor.execute(sql, (pat_ID, pat_name, pat_lastname, pat_gender))\n",
        "    connection.commit()\n",
        "\n",
        "def insert_appointment(app_ID, app_date, app_hour, app_reason):\n",
        "    sql = \"INSERT INTO Appointment (app_ID, app_date, app_hour, app_reason) VALUES (%s, %s, %s, %s)\"\n",
        "    cursor.execute(sql, (app_ID, app_date, app_hour, app_reason))\n",
        "    connection.commit()\n",
        "\n",
        "def insert_medicine(med_ID, med_code, med_price):\n",
        "    sql = \"INSERT INTO Medicine (med_ID, med_code, med_price) VALUES (%s, %s, %s)\"\n",
        "\n",
        "    cursor.execute(sql, (med_ID, med_code, med_price))\n",
        "    connection.commit()\n",
        "\n",
        "def insert_works(doc_ID, dept_ID):\n",
        "    sql = \"INSERT INTO works (doc_ID, dept_ID) VALUES (%s, %s)\"\n",
        "    cursor.execute(sql, (doc_ID, dept_ID))\n",
        "    connection.commit()\n",
        "\n",
        "def insert_makes(app_ID, pat_ID, doc_ID):\n",
        "    sql = \"INSERT INTO makes (app_ID, pat_ID, doc_ID) VALUES (%s, %s, %s)\"\n",
        "    cursor.execute(sql, (app_ID, pat_ID, doc_ID))\n",
        "    connection.commit()\n",
        "\n",
        "def insert_gives(doc_ID, med_ID, pat_ID):\n",
        "    sql = \"INSERT INTO gives (doc_ID, med_ID, pat_ID) VALUES (%s, %s, %s)\"\n",
        "    cursor.execute(sql, (doc_ID, med_ID, pat_ID))\n",
        "    connection.commit()\n",
        "\n",
        "def insert_takes(pat_ID, med_ID):\n",
        "    sql = \"INSERT INTO gives (pat_ID, med_ID) VALUES (%s, %s)\"\n",
        "    cursor.execute(sql, (pat_ID, med_ID))\n",
        "    connection.commit()"
      ],
      "metadata": {
        "id": "3lWFpOgbM8ar"
      },
      "execution_count": null,
      "outputs": []
    },
    {
      "cell_type": "markdown",
      "source": [
        "# Question 3\n",
        "# Functionality for printing the tables from database"
      ],
      "metadata": {
        "id": "9pwVU9ryNhes"
      }
    },
    {
      "cell_type": "code",
      "source": [
        "# For each table we print datas(according to the table's attributes), with using SELECT * FROM command\n",
        "# then fetching the datas so we won't lose any data.\n",
        "# !Every function is same for 'printing' the tables so I won't be explaning over and over again!\n",
        "\n",
        "def print_department_data():\n",
        "    cursor.execute(\"SELECT * FROM Department\")\n",
        "    results = cursor.fetchall()\n",
        "    for result in results:\n",
        "        print(result)\n",
        "\n",
        "def print_doctor_data():\n",
        "    cursor.execute(\"SELECT * FROM Doctor\")\n",
        "    results = cursor.fetchall()\n",
        "    for result in results:\n",
        "        print(result)\n",
        "\n",
        "def print_patient_data():\n",
        "    cursor.execute(\"SELECT * FROM Patient\")\n",
        "    results = cursor.fetchall()\n",
        "    for result in results:\n",
        "        print(result)\n",
        "\n",
        "def print_appointment_data():\n",
        "    cursor.execute(\"SELECT * FROM Appointment\")\n",
        "    results = cursor.fetchall()\n",
        "    for result in results:\n",
        "        print(result)\n",
        "\n",
        "def print_medicine_data():\n",
        "    cursor.execute(\"SELECT * FROM Medicine\")\n",
        "    results = cursor.fetchall()\n",
        "    for result in results:\n",
        "        print(result)\n",
        "\n",
        "def print_works_data():\n",
        "    cursor.execute(\"SELECT * FROM works\")\n",
        "    results = cursor.fetchall()\n",
        "    for result in results:\n",
        "        print(result)\n",
        "\n",
        "def print_makes_data():\n",
        "    cursor.execute(\"SELECT * FROM makes\")\n",
        "    results = cursor.fetchall()\n",
        "    for result in results:\n",
        "        print(result)\n",
        "\n",
        "def print_gives_data():\n",
        "    cursor.execute(\"SELECT * FROM gives\")\n",
        "    results = cursor.fetchall()\n",
        "    for result in results:\n",
        "        print(result)\n",
        "\n",
        "def print_takes_data():\n",
        "    cursor.execute(\"SELECT * FROM takes\")\n",
        "    results = cursor.fetchall()\n",
        "    for result in results:\n",
        "        print(result)"
      ],
      "metadata": {
        "id": "UrUhglBbNggR"
      },
      "execution_count": null,
      "outputs": []
    },
    {
      "cell_type": "code",
      "source": [
        "#Using the functions and filling the database\n",
        "insert_department(555, \"KBB\")\n",
        "insert_department(444, \"Enfeksyon Hastaliklari\")\n",
        "insert_department(333, \"Cocuk Genel Bakim\")\n",
        "insert_department(222, \"Dis\")\n",
        "\n",
        "insert_doctor(1, \"Ali\", \"Öztürk\", 555)\n",
        "insert_doctor(2, \"Ayse\", \"Hanim\", 333)\n",
        "insert_doctor(3, \"Ali\", \"Yilmaz\", 444)\n",
        "insert_doctor(4, \"Zeynep\", \"Demir\", 222)\n",
        "insert_doctor(5, \"Mustafa\", \"Kaya\", 555)\n",
        "\n",
        "insert_medicine(1,\"CXB\", 50)\n",
        "insert_medicine(2,\"A0B\", 43)\n",
        "insert_medicine(3,\"Y22\", 12)\n",
        "insert_medicine(4,\"PTR\", 90)\n",
        "insert_medicine(5,\"FBN\", 65)\n",
        "\n",
        "insert_works(1,555)\n",
        "insert_works(2,333)\n",
        "insert_works(3,444)\n",
        "insert_works(4,222)\n",
        "insert_works(5,555)"
      ],
      "metadata": {
        "id": "kXV4nUP3s5MV"
      },
      "execution_count": null,
      "outputs": []
    },
    {
      "cell_type": "markdown",
      "source": [
        "# Question 4\n",
        "# Additional functionalities of application"
      ],
      "metadata": {
        "id": "PLGVT7HwtgC6"
      }
    },
    {
      "cell_type": "markdown",
      "source": [
        "This helper function checks if the given time and date is suitable for the doctor"
      ],
      "metadata": {
        "id": "TIfH594E5vvJ"
      }
    },
    {
      "cell_type": "code",
      "source": [
        "#Creating global tarih and saat variable so we can update them\n",
        "tarih = \"\"\n",
        "saat = \"\"\n",
        "\n",
        "#We need a function to check if the given time and date is valid for appointment for the given doctor, If not we want different date or time\n",
        "def check_appointment_date(doktor_id):\n",
        "    #To be able to use them\n",
        "    global tarih, saat\n",
        "\n",
        "    #Ask the patient for date and time and update the global variables\n",
        "    tarih = input('Randevu tarihini girin: (YY-MM-DD) ')\n",
        "    saat = input('Randevu saatini girin: (HH:MM) ')\n",
        "\n",
        "    #Check if the given date or time is valid or not\n",
        "    cursor.execute('SELECT * FROM Appointment INNER JOIN Makes ON Appointment.app_ID = Makes.app_ID WHERE app_date = %s AND app_hour = %s AND Makes.doc_ID = %s', (tarih, saat, doktor_id))\n",
        "\n",
        "    if cursor.fetchone():\n",
        "        #If yes ask once again\n",
        "        print('Bu tarih ve saatte başka bir randevu var.Lütfen farklı bir tarih ve saat seçiniz.')\n",
        "        #Call the function one more time to be recursive\n",
        "        check_appointment_date(doktor_id)\n",
        "    \n",
        "    #Else exit the function\n",
        "    else:\n",
        "        return"
      ],
      "metadata": {
        "id": "IxLMziLJtoPX"
      },
      "execution_count": null,
      "outputs": []
    },
    {
      "cell_type": "markdown",
      "source": [
        "This function is called by the patient and helps him/her to take appointment"
      ],
      "metadata": {
        "id": "rKXl1WUP55yI"
      }
    },
    {
      "cell_type": "code",
      "source": [
        "def hasta_randevu_al():\n",
        "    #To be able to used updated variables\n",
        "    global tarih\n",
        "    global saat\n",
        "\n",
        "    # Execute a SELECT query to get the last inserted app_ID\n",
        "    cursor.execute(\"SELECT app_ID FROM Appointment ORDER BY app_ID DESC LIMIT 1\")\n",
        "\n",
        "    # Fetch the result of the query\n",
        "    result = cursor.fetchone()\n",
        "\n",
        "    #Turn the result into an integer value\n",
        "    last_ID = result.get(\"app_ID\")\n",
        "\n",
        "    #Add +1 so it basically acts like AUTO_INCREMENT command\n",
        "    last_ID += 1\n",
        "\n",
        "    # Print a table of doctors with their IDs, names, last names, and departments using PrettyTable to look good\n",
        "    table = PrettyTable()\n",
        "    table.field_names = ['Doc_ID', 'İsim', 'Soyisim', 'Departman']\n",
        "\n",
        "    #Fist we select the datas for Doctor (ID, name, lastname, department).\n",
        "    #For department value we simply going to take it from Department table with using INNER JOIN command\n",
        "    #If the Doctor.dept_ID = Department.dept_ID we will simply take the Department.dept_name and put it in the table\n",
        "    cursor.execute('SELECT * FROM Doctor INNER JOIN Department ON Doctor.dept_ID = Department.dept_ID')\n",
        "    doctors = cursor.fetchall()\n",
        "    for doctor in doctors:\n",
        "        table.add_row([doctor['doc_ID'], doctor['doc_name'], doctor['doc_lastname'], doctor['dept_name']])\n",
        "    print(table)\n",
        "\n",
        "    # Ask the user which doctor they want to see\n",
        "    doktor_id = input(\"Lütfen randevu almak istediğiniz doktorun ID'sini giriniz: \")\n",
        "\n",
        "    # Ask the user for the Patient table details\n",
        "    hasta_id = input(\"Lütfen hasta ID'sini giriniz: \")\n",
        "    hasta_name = input(\"Lütfen adınız giriniz: \")\n",
        "    hasta_lastname = input(\"Lütfen soy adınız giriniz: \")\n",
        "    hasta_gender = input(\"Lütfen cinsiyetinizi giriniz:(E/K) \")\n",
        "\n",
        "    #Call the helper function to check if the given doc_ID, time and date is available\n",
        "    check_appointment_date(doktor_id)\n",
        "\n",
        "    #Ask the user for the Appointment table details\n",
        "    reason = input(\"Lütfen şikayetinizi özetleyiniz: \")\n",
        "    \n",
        "    # Insert the appointment datas into the Appointment table\n",
        "    cursor.execute(\"INSERT INTO Appointment (app_ID, app_date, app_hour, app_reason) VALUES (%s, %s, %s, %s)\", (last_ID, tarih, saat, reason))\n",
        "    connection.commit()\n",
        "\n",
        "    # Insert the patient datas into Patient table\n",
        "    cursor.execute(\"INSERT INTO Patient (pat_ID, pat_name, pat_lastname, pat_gender) VALUES (%s, %s, %s, %s)\", (hasta_id, hasta_name, hasta_lastname, hasta_gender))\n",
        "    connection.commit()\n",
        "\n",
        "    # Insert the given datas into the makes table\n",
        "    cursor.execute(\"INSERT INTO makes (app_ID, doc_ID, pat_ID) VALUES (%s, %s, %s)\", (last_ID, doktor_id, hasta_id))\n",
        "    connection.commit()\n",
        "\n",
        "    print(\"Randevu başarıyla oluşturuldu\")"
      ],
      "metadata": {
        "id": "qBZghYB6tszd"
      },
      "execution_count": null,
      "outputs": []
    },
    {
      "cell_type": "markdown",
      "source": [
        "This helper function shows the doctor of his/her appointments"
      ],
      "metadata": {
        "id": "MlzYRM4a6AVx"
      }
    },
    {
      "cell_type": "code",
      "source": [
        "def doktor_randevulari(doc_ID):\n",
        "    # Print a table of the doctor's appointments\n",
        "    table = PrettyTable()\n",
        "    table.field_names = ['Hasta ID', 'Randevu Tarihi', 'Randevu Saati', 'Randevu Nedeni']\n",
        "\n",
        "    #Take the datas from Appointment INNER JOIN Makes INNER JOIN Patient \n",
        "    cursor.execute('''SELECT Patient.pat_ID, Appointment.app_date, Appointment.app_hour, Appointment.app_reason FROM Appointment INNER JOIN Makes ON Appointment.app_ID = Makes.app_ID INNER JOIN Patient ON Makes.pat_ID = Patient.pat_ID WHERE Makes.doc_ID = %s\n",
        "    ''', (doc_ID))\n",
        "    \n",
        "    appointments = cursor.fetchall() #Save the values\n",
        "    #Print the table by using prettyTable\n",
        "    for appointment in appointments:\n",
        "        table.add_row([appointment['pat_ID'], appointment['app_date'], appointment['app_hour'], appointment['app_reason']])\n",
        "    print(table)"
      ],
      "metadata": {
        "id": "LPbKhCK86Mdo"
      },
      "execution_count": null,
      "outputs": []
    },
    {
      "cell_type": "markdown",
      "source": [
        "This function for the doctors so that they can give the correct medicines to their patients"
      ],
      "metadata": {
        "id": "97h36bJ46puA"
      }
    },
    {
      "cell_type": "code",
      "source": [
        "def doktor_ilac_yaz():\n",
        "    # Get the doctor's ID\n",
        "    doc_ID = input('Lütfen doktor numaranızı girin: ')\n",
        "\n",
        "    # Get the patient's ID\n",
        "    pat_ID = input('Lütfen hasta numaranızı girin: ')\n",
        "\n",
        "    # Get the appointment ID\n",
        "    cursor.execute('SELECT * FROM Makes WHERE doc_ID = %s AND pat_ID = %s', (doc_ID, pat_ID))\n",
        "    makes = cursor.fetchone()\n",
        "    if not makes:\n",
        "        print('Bu doktor ve hasta için bir randevu bulunamadı.')\n",
        "        return\n",
        "\n",
        "    # Prescribe medications to the patient\n",
        "    while True:\n",
        "        # Get the medication ID\n",
        "        # If doctor won't give any more medicine he/she can press q to exit\n",
        "        med_ID = input('Lütfen ilaç kodunu girin (çıkmak için q): ')\n",
        "\n",
        "        if med_ID != 'q':\n",
        "            #If doctor wants to give medicine\n",
        "            #Insert the \"gives\" relationship into the database with given datas\n",
        "            cursor.execute('INSERT INTO gives(doc_ID, med_ID, pat_ID) VALUES (%s, %s, %s)', (doc_ID, med_ID, pat_ID))\n",
        "            connection.commit()\n",
        "\n",
        "            #Also fill the takes table so patient can see which medicines he/she needs to take\n",
        "            cursor.execute('INSERT INTO takes( med_ID, pat_ID) VALUES ( %s, %s)', (med_ID, pat_ID))\n",
        "            connection.commit()\n",
        "        \n",
        "        #Else leave the function\n",
        "        elif med_ID == 'q':\n",
        "            break\n",
        "    \n",
        "    print(\"İlaçlar: \"+ pat_ID+ \" \"+ \"ID'li hastaya yazılmıştır, İyi günler dileriz.\" )\n",
        "    #Exit the code\n",
        "    exit()"
      ],
      "metadata": {
        "id": "x4E5ey5n6uuD"
      },
      "execution_count": null,
      "outputs": []
    },
    {
      "cell_type": "markdown",
      "source": [
        "This function shows all the medicines that patien must take and calculates the total price sum for them"
      ],
      "metadata": {
        "id": "3aGIrc5O60En"
      }
    },
    {
      "cell_type": "code",
      "source": [
        "def hasta_ilaclari_goster():\n",
        "    # Get the patient's ID\n",
        "    pat_ID = input('Lütfen hasta ID.nizi girin: ')\n",
        "\n",
        "    # Create a table to show the prescribed medications and their prices\n",
        "    table = PrettyTable()\n",
        "    table.field_names = ['Doktor ID', 'İlaç Kodu', 'İlaç Fiyatı']\n",
        "    #Get the med_id med_price and doc_ID from Gives INNER JOIN Medicine\n",
        "    cursor.execute('SELECT * FROM Gives INNER JOIN Medicine ON Gives.med_ID = Medicine.med_ID WHERE pat_ID = %s', (pat_ID))\n",
        "    medications = cursor.fetchall() #Save the datas\n",
        "    total_cost = 0\n",
        "    #Sum all the prices and print as a table\n",
        "    for medication in medications:\n",
        "        table.add_row([medication['doc_ID'], medication['med_code'], medication['med_price']])\n",
        "        total_cost += medication['med_price']\n",
        "    print(table)\n",
        "\n",
        "    # Print the total cost of the medications\n",
        "    print(f'Toplam ilaç fiyatı: {total_cost}')\n",
        "    exit()"
      ],
      "metadata": {
        "id": "YnKg4Jn8672a"
      },
      "execution_count": null,
      "outputs": []
    },
    {
      "cell_type": "markdown",
      "source": [
        "# Question 1"
      ],
      "metadata": {
        "id": "3hVBC9tEsKeE"
      }
    },
    {
      "cell_type": "markdown",
      "source": [
        "This is the user interface of my database/function/code. It's at the bottom because for this code to be working first we need functions."
      ],
      "metadata": {
        "id": "mNoZLgbHsO6a"
      }
    },
    {
      "cell_type": "code",
      "source": [
        "def main():\n",
        "    #Ask the user if he/she is doctor or patient\n",
        "    user_type = input(\"Sağlık sistemine hoş geldiniz. Doktor girişi için doktor, Hasta girişi için hasta'yı seçiniz (doktor/hasta): \")\n",
        "\n",
        "    #If he/she is a patient\n",
        "    if user_type.lower() == 'hasta':\n",
        "        #Ask him/her to is he/she wants to make an appointment or wants to see their medicines\n",
        "        patient_input = input(\"Hasta randevusu için randevu, Randevunuz olup ilaçlarınızı görmek istiyorsanız ilaç'ları seçiniz (randevu/ilaç\")\n",
        "        #If he/she wants to make an appointment call the hasta_randevu_al() function\n",
        "        if patient_input.lower() == 'randevu':\n",
        "            hasta_randevu_al()\n",
        "        #If he/she wants to see their medicines call the hasta_ilaç_göster() function\n",
        "        elif patient_input.lower() == 'ilaç':\n",
        "            hasta_ilaclari_goster()\n",
        "        #Else give error and start again\n",
        "        else:\n",
        "            print(\"Bilinmeyen giriş\")\n",
        "            main()\n",
        "    #Else if user is a doctor\n",
        "    elif user_type.lower() == 'doktor':\n",
        "        #Ask him/her is he/she wants to see their appointments or want to give medicine to their patients\n",
        "        user_choice = input('Randevuları görüntülemek mi istiyorsunuz, hastaya ilaç yazmak mı istiyorsunuz? (randevu/ilaç): ')\n",
        "        #If he/she wants so see their appointments, first ask their doc_ID then call doktor_randevulari(doc_ID) function with their ID\n",
        "        if user_choice.lower() == 'randevu':\n",
        "            doc_id = input(\"Lütfen doktor ID'nizi giriniz\")\n",
        "            doktor_randevulari(doc_id)\n",
        "        #Else if he/she wants to give medicine to their patients, call doktor_ilac_yaz() function\n",
        "        elif user_choice.lower() == 'ilaç':\n",
        "            doktor_ilac_yaz()\n",
        "        #Else give error and start again\n",
        "        else:\n",
        "            print('Geçersiz seçim')\n",
        "            main()\n",
        "    #Else give error and start again\n",
        "    else:\n",
        "        print('Geçersiz seçim')\n",
        "        main()\n",
        "\n",
        "main()"
      ],
      "metadata": {
        "id": "YOUmQE3DsMYK"
      },
      "execution_count": null,
      "outputs": []
    }
  ]
}